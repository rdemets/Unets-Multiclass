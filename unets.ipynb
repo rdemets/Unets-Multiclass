{
 "cells": [
  {
   "cell_type": "markdown",
   "metadata": {},
   "source": [
    "### Import required modules"
   ]
  },
  {
   "cell_type": "code",
   "execution_count": 1,
   "metadata": {
    "scrolled": true
   },
   "outputs": [
    {
     "name": "stderr",
     "output_type": "stream",
     "text": [
      "Using TensorFlow backend.\n"
     ]
    }
   ],
   "source": [
    "import os\n",
    "import warnings\n",
    "warnings.simplefilter(action='ignore', category=FutureWarning)\n",
    "import matplotlib.pyplot as plt\n",
    "\n",
    "# import user classes\n",
    "from models.Unet import Unet\n",
    "from models.Unet_Resnet import Unet_Resnet101, Unet_Resnet50, Unet_Resnet_paper\n",
    "from models.Unet_ResAttnet import Res_att_unet_2d, Res_att_unet_3d\n",
    "\n",
    "%load_ext autoreload\n",
    "%autoreload 2\n",
    "\n",
    "# functions for visualization\n",
    "def display_images(image, cmap='gray', norm=None, interpolation='bilinear'):\n",
    "\n",
    "    plt.figure(figsize=(14, 14))\n",
    "    plt.axis('off')\n",
    "    plt.imshow(image, cmap=cmap,\n",
    "               norm=norm, interpolation=interpolation)\n",
    "    plt.show()"
   ]
  },
  {
   "cell_type": "markdown",
   "metadata": {},
   "source": [
    "## Initialize model"
   ]
  },
  {
   "cell_type": "code",
   "execution_count": 2,
   "metadata": {},
   "outputs": [
    {
     "name": "stdout",
     "output_type": "stream",
     "text": [
      "Loaded config file from configs/default_singleclass_unet.yml\n",
      "WARNING:tensorflow:From C:\\Users\\cjt678\\Desktop\\Unets\\models\\CNN_Base.py:169: The name tf.ConfigProto is deprecated. Please use tf.compat.v1.ConfigProto instead.\n",
      "\n",
      "WARNING:tensorflow:From C:\\Users\\cjt678\\Desktop\\Unets\\models\\CNN_Base.py:171: The name tf.Session is deprecated. Please use tf.compat.v1.Session instead.\n",
      "\n"
     ]
    }
   ],
   "source": [
    "model = Unet(config_filepath=\"configs/default_singleclass_unet.yml\")"
   ]
  },
  {
   "cell_type": "markdown",
   "metadata": {},
   "source": [
    "## 1. Load / augment dataset"
   ]
  },
  {
   "cell_type": "code",
   "execution_count": 3,
   "metadata": {
    "scrolled": true
   },
   "outputs": [
    {
     "name": "stdout",
     "output_type": "stream",
     "text": [
      "Performing augmentations on 200 images\n"
     ]
    },
    {
     "name": "stderr",
     "output_type": "stream",
     "text": [
      "Augmentation of images: 100%|███████████████| 200/200 [00:00<00:00, 413.20it/s]\n"
     ]
    },
    {
     "name": "stdout",
     "output_type": "stream",
     "text": [
      "Augmentations complete!\n"
     ]
    }
   ],
   "source": [
    "model.load_dataset()\n",
    "model.augment_images()\n"
   ]
  },
  {
   "cell_type": "markdown",
   "metadata": {},
   "source": [
    "## 2. Training"
   ]
  },
  {
   "cell_type": "code",
   "execution_count": 4,
   "metadata": {},
   "outputs": [
    {
     "name": "stdout",
     "output_type": "stream",
     "text": [
      "Unet 2022-02-15 13:41:48.599567\n",
      "Config file written to: /Users/cjt678/Desktop/Unets/Networks/Unet-20220215T1341\\Unet-20220215T1341-config.yml\n",
      "WARNING:tensorflow:From C:\\ProgramData\\Anaconda3\\envs\\env-unets\\lib\\site-packages\\keras\\backend\\tensorflow_backend.py:4070: The name tf.nn.max_pool is deprecated. Please use tf.nn.max_pool2d instead.\n",
      "\n",
      "Model file written to: /Users/cjt678/Desktop/Unets/Networks/Unet-20220215T1341\\Unet-20220215T1341-model.yml\n",
      "Training using single GPU or CPU..\n",
      "Loss : edge-enhanced Dice loss\n",
      "Metrics : IoU\n",
      "WARNING:tensorflow:From C:\\ProgramData\\Anaconda3\\envs\\env-unets\\lib\\site-packages\\tensorflow\\python\\ops\\metrics_impl.py:1178: add_dispatch_support.<locals>.wrapper (from tensorflow.python.ops.array_ops) is deprecated and will be removed in a future version.\n",
      "Instructions for updating:\n",
      "Use tf.where in 2.0, which has the same broadcast rule as np.where\n",
      "WARNING:tensorflow:From C:\\ProgramData\\Anaconda3\\envs\\env-unets\\lib\\site-packages\\tensorflow\\python\\ops\\metrics_impl.py:1179: div (from tensorflow.python.ops.math_ops) is deprecated and will be removed in a future version.\n",
      "Instructions for updating:\n",
      "Deprecated in favor of operator or tf.math.divide.\n"
     ]
    }
   ],
   "source": [
    "model.initialize_model()\n",
    "# If pre-trained model, please indicate the path \n",
    "#model.load_weights('/mnt/mbi/home/mbirdm/AI/data_ai/Vidhya/Networks/OneClass/Best/Res_att_unet_2d-20200504T0646_BCE/weights_now.h5')"
   ]
  },
  {
   "cell_type": "code",
   "execution_count": 5,
   "metadata": {},
   "outputs": [],
   "source": [
    "#model.summary()"
   ]
  },
  {
   "cell_type": "code",
   "execution_count": null,
   "metadata": {},
   "outputs": [
    {
     "name": "stdout",
     "output_type": "stream",
     "text": [
      "WARNING:tensorflow:From C:\\ProgramData\\Anaconda3\\envs\\env-unets\\lib\\site-packages\\keras\\backend\\tensorflow_backend.py:422: The name tf.global_variables is deprecated. Please use tf.compat.v1.global_variables instead.\n",
      "\n",
      "Train on 180 samples, validate on 20 samples\n",
      "WARNING:tensorflow:From C:\\ProgramData\\Anaconda3\\envs\\env-unets\\lib\\site-packages\\keras\\callbacks\\tensorboard_v1.py:200: The name tf.summary.merge_all is deprecated. Please use tf.compat.v1.summary.merge_all instead.\n",
      "\n",
      "WARNING:tensorflow:From C:\\ProgramData\\Anaconda3\\envs\\env-unets\\lib\\site-packages\\keras\\callbacks\\tensorboard_v1.py:206: The name tf.summary.FileWriter is deprecated. Please use tf.compat.v1.summary.FileWriter instead.\n",
      "\n",
      "Epoch 1/120\n",
      "180/180 [==============================] - 19s 107ms/step - loss: 0.7970 - mean_iou: 0.4572 - val_loss: 0.8440 - val_mean_iou: 0.5045\n",
      "\n",
      "Epoch 00001: val_loss improved from inf to 0.84399, saving model to /Users/cjt678/Desktop/Unets/Networks/Unet-20220215T1341\\weights_best.h5\n",
      "\n",
      "Epoch 00001: saving model to /Users/cjt678/Desktop/Unets/Networks/Unet-20220215T1341\\weights_now.h5\n",
      "WARNING:tensorflow:From C:\\ProgramData\\Anaconda3\\envs\\env-unets\\lib\\site-packages\\keras\\callbacks\\tensorboard_v1.py:343: The name tf.Summary is deprecated. Please use tf.compat.v1.Summary instead.\n",
      "\n",
      "Epoch 2/120\n",
      "180/180 [==============================] - 11s 64ms/step - loss: 0.5830 - mean_iou: 0.5309 - val_loss: 0.8166 - val_mean_iou: 0.5575\n",
      "\n",
      "Epoch 00002: val_loss improved from 0.84399 to 0.81663, saving model to /Users/cjt678/Desktop/Unets/Networks/Unet-20220215T1341\\weights_best.h5\n",
      "\n",
      "Epoch 00002: saving model to /Users/cjt678/Desktop/Unets/Networks/Unet-20220215T1341\\weights_now.h5\n",
      "Epoch 3/120\n",
      "180/180 [==============================] - 12s 64ms/step - loss: 0.4035 - mean_iou: 0.5728 - val_loss: 0.7998 - val_mean_iou: 0.5881\n",
      "\n",
      "Epoch 00003: val_loss improved from 0.81663 to 0.79979, saving model to /Users/cjt678/Desktop/Unets/Networks/Unet-20220215T1341\\weights_best.h5\n",
      "\n",
      "Epoch 00003: saving model to /Users/cjt678/Desktop/Unets/Networks/Unet-20220215T1341\\weights_now.h5\n",
      "Epoch 4/120\n",
      "180/180 [==============================] - 12s 64ms/step - loss: 0.3243 - mean_iou: 0.5984 - val_loss: 0.8206 - val_mean_iou: 0.6103\n",
      "\n",
      "Epoch 00004: val_loss did not improve from 0.79979\n",
      "\n",
      "Epoch 00004: saving model to /Users/cjt678/Desktop/Unets/Networks/Unet-20220215T1341\\weights_now.h5\n",
      "Epoch 5/120\n",
      "180/180 [==============================] - 11s 63ms/step - loss: 0.2794 - mean_iou: 0.6194 - val_loss: 0.8618 - val_mean_iou: 0.6287\n",
      "\n",
      "Epoch 00005: val_loss did not improve from 0.79979\n",
      "\n",
      "Epoch 00005: saving model to /Users/cjt678/Desktop/Unets/Networks/Unet-20220215T1341\\weights_now.h5\n",
      "Epoch 6/120\n",
      "180/180 [==============================] - 12s 64ms/step - loss: 0.2433 - mean_iou: 0.6364 - val_loss: 0.8946 - val_mean_iou: 0.6449\n",
      "\n",
      "Epoch 00006: val_loss did not improve from 0.79979\n",
      "\n",
      "Epoch 00006: saving model to /Users/cjt678/Desktop/Unets/Networks/Unet-20220215T1341\\weights_now.h5\n",
      "Epoch 7/120\n",
      "180/180 [==============================] - 11s 64ms/step - loss: 0.2270 - mean_iou: 0.6518 - val_loss: 0.8884 - val_mean_iou: 0.6584\n",
      "\n",
      "Epoch 00007: val_loss did not improve from 0.79979\n",
      "\n",
      "Epoch 00007: saving model to /Users/cjt678/Desktop/Unets/Networks/Unet-20220215T1341\\weights_now.h5\n",
      "Epoch 8/120\n",
      "180/180 [==============================] - 11s 63ms/step - loss: 0.2077 - mean_iou: 0.6640 - val_loss: 0.7788 - val_mean_iou: 0.6703\n",
      "\n",
      "Epoch 00008: val_loss improved from 0.79979 to 0.77882, saving model to /Users/cjt678/Desktop/Unets/Networks/Unet-20220215T1341\\weights_best.h5\n",
      "\n",
      "Epoch 00008: saving model to /Users/cjt678/Desktop/Unets/Networks/Unet-20220215T1341\\weights_now.h5\n",
      "Epoch 9/120\n",
      "180/180 [==============================] - 11s 63ms/step - loss: 0.1966 - mean_iou: 0.6751 - val_loss: 0.6477 - val_mean_iou: 0.6810\n",
      "\n",
      "Epoch 00009: val_loss improved from 0.77882 to 0.64773, saving model to /Users/cjt678/Desktop/Unets/Networks/Unet-20220215T1341\\weights_best.h5\n",
      "\n",
      "Epoch 00009: saving model to /Users/cjt678/Desktop/Unets/Networks/Unet-20220215T1341\\weights_now.h5\n",
      "Epoch 10/120\n",
      "180/180 [==============================] - 12s 64ms/step - loss: 0.1959 - mean_iou: 0.6857 - val_loss: 0.6879 - val_mean_iou: 0.6904\n",
      "\n",
      "Epoch 00010: val_loss did not improve from 0.64773\n",
      "\n",
      "Epoch 00010: saving model to /Users/cjt678/Desktop/Unets/Networks/Unet-20220215T1341\\weights_now.h5\n",
      "Epoch 11/120\n",
      "180/180 [==============================] - 11s 63ms/step - loss: 0.1838 - mean_iou: 0.6945 - val_loss: 0.6889 - val_mean_iou: 0.6987\n",
      "\n",
      "Epoch 00011: val_loss did not improve from 0.64773\n",
      "\n",
      "Epoch 00011: saving model to /Users/cjt678/Desktop/Unets/Networks/Unet-20220215T1341\\weights_now.h5\n",
      "Epoch 12/120\n",
      "180/180 [==============================] - 11s 63ms/step - loss: 0.1772 - mean_iou: 0.7020 - val_loss: 0.4161 - val_mean_iou: 0.7060\n",
      "\n",
      "Epoch 00012: val_loss improved from 0.64773 to 0.41609, saving model to /Users/cjt678/Desktop/Unets/Networks/Unet-20220215T1341\\weights_best.h5\n",
      "\n",
      "Epoch 00012: saving model to /Users/cjt678/Desktop/Unets/Networks/Unet-20220215T1341\\weights_now.h5\n",
      "Epoch 13/120\n",
      "180/180 [==============================] - 12s 64ms/step - loss: 0.1653 - mean_iou: 0.7099 - val_loss: 0.4036 - val_mean_iou: 0.7138\n",
      "\n",
      "Epoch 00013: val_loss improved from 0.41609 to 0.40355, saving model to /Users/cjt678/Desktop/Unets/Networks/Unet-20220215T1341\\weights_best.h5\n",
      "\n",
      "Epoch 00013: saving model to /Users/cjt678/Desktop/Unets/Networks/Unet-20220215T1341\\weights_now.h5\n",
      "Epoch 14/120\n",
      "180/180 [==============================] - 12s 64ms/step - loss: 0.1576 - mean_iou: 0.7174 - val_loss: 0.3715 - val_mean_iou: 0.7209\n",
      "\n",
      "Epoch 00014: val_loss improved from 0.40355 to 0.37149, saving model to /Users/cjt678/Desktop/Unets/Networks/Unet-20220215T1341\\weights_best.h5\n",
      "\n",
      "Epoch 00014: saving model to /Users/cjt678/Desktop/Unets/Networks/Unet-20220215T1341\\weights_now.h5\n",
      "Epoch 15/120\n",
      "180/180 [==============================] - 11s 63ms/step - loss: 0.1485 - mean_iou: 0.7243 - val_loss: 0.2858 - val_mean_iou: 0.7280\n",
      "\n",
      "Epoch 00015: val_loss improved from 0.37149 to 0.28581, saving model to /Users/cjt678/Desktop/Unets/Networks/Unet-20220215T1341\\weights_best.h5\n",
      "\n",
      "Epoch 00015: saving model to /Users/cjt678/Desktop/Unets/Networks/Unet-20220215T1341\\weights_now.h5\n",
      "Epoch 16/120\n",
      "180/180 [==============================] - 12s 64ms/step - loss: 0.1411 - mean_iou: 0.7313 - val_loss: 0.3070 - val_mean_iou: 0.7345\n",
      "\n",
      "Epoch 00016: val_loss did not improve from 0.28581\n",
      "\n",
      "Epoch 00016: saving model to /Users/cjt678/Desktop/Unets/Networks/Unet-20220215T1341\\weights_now.h5\n",
      "Epoch 17/120\n",
      "180/180 [==============================] - 12s 65ms/step - loss: 0.1451 - mean_iou: 0.7372 - val_loss: 0.2580 - val_mean_iou: 0.7402\n",
      "\n",
      "Epoch 00017: val_loss improved from 0.28581 to 0.25796, saving model to /Users/cjt678/Desktop/Unets/Networks/Unet-20220215T1341\\weights_best.h5\n",
      "\n",
      "Epoch 00017: saving model to /Users/cjt678/Desktop/Unets/Networks/Unet-20220215T1341\\weights_now.h5\n",
      "Epoch 18/120\n",
      "180/180 [==============================] - 11s 63ms/step - loss: 0.1419 - mean_iou: 0.7428 - val_loss: 0.2959 - val_mean_iou: 0.7455\n",
      "\n",
      "Epoch 00018: val_loss did not improve from 0.25796\n",
      "\n",
      "Epoch 00018: saving model to /Users/cjt678/Desktop/Unets/Networks/Unet-20220215T1341\\weights_now.h5\n",
      "Epoch 19/120\n",
      "180/180 [==============================] - 12s 64ms/step - loss: 0.1355 - mean_iou: 0.7479 - val_loss: 0.2934 - val_mean_iou: 0.7505\n",
      "\n",
      "Epoch 00019: val_loss did not improve from 0.25796\n",
      "\n",
      "Epoch 00019: saving model to /Users/cjt678/Desktop/Unets/Networks/Unet-20220215T1341\\weights_now.h5\n",
      "Epoch 20/120\n",
      "180/180 [==============================] - 11s 64ms/step - loss: 0.1255 - mean_iou: 0.7529 - val_loss: 0.3173 - val_mean_iou: 0.7553\n",
      "\n",
      "Epoch 00020: val_loss did not improve from 0.25796\n",
      "\n",
      "Epoch 00020: saving model to /Users/cjt678/Desktop/Unets/Networks/Unet-20220215T1341\\weights_now.h5\n",
      "Epoch 21/120\n",
      "180/180 [==============================] - 11s 64ms/step - loss: 0.1196 - mean_iou: 0.7576 - val_loss: 0.2384 - val_mean_iou: 0.7599\n",
      "\n",
      "Epoch 00021: val_loss improved from 0.25796 to 0.23842, saving model to /Users/cjt678/Desktop/Unets/Networks/Unet-20220215T1341\\weights_best.h5\n",
      "\n",
      "Epoch 00021: saving model to /Users/cjt678/Desktop/Unets/Networks/Unet-20220215T1341\\weights_now.h5\n",
      "Epoch 22/120\n",
      "180/180 [==============================] - 11s 64ms/step - loss: 0.1284 - mean_iou: 0.7620 - val_loss: 0.2996 - val_mean_iou: 0.7642\n",
      "\n",
      "Epoch 00022: val_loss did not improve from 0.23842\n",
      "\n",
      "Epoch 00022: saving model to /Users/cjt678/Desktop/Unets/Networks/Unet-20220215T1341\\weights_now.h5\n",
      "Epoch 23/120\n",
      "180/180 [==============================] - 12s 64ms/step - loss: 0.1166 - mean_iou: 0.7661 - val_loss: 0.2548 - val_mean_iou: 0.7682\n",
      "\n",
      "Epoch 00023: val_loss did not improve from 0.23842\n",
      "\n",
      "Epoch 00023: saving model to /Users/cjt678/Desktop/Unets/Networks/Unet-20220215T1341\\weights_now.h5\n",
      "Epoch 24/120\n",
      "180/180 [==============================] - 12s 64ms/step - loss: 0.1101 - mean_iou: 0.7702 - val_loss: 0.2796 - val_mean_iou: 0.7721\n",
      "\n",
      "Epoch 00024: val_loss did not improve from 0.23842\n",
      "\n",
      "Epoch 00024: saving model to /Users/cjt678/Desktop/Unets/Networks/Unet-20220215T1341\\weights_now.h5\n",
      "Epoch 25/120\n",
      "180/180 [==============================] - 12s 64ms/step - loss: 0.1057 - mean_iou: 0.7739 - val_loss: 0.3131 - val_mean_iou: 0.7758\n",
      "\n",
      "Epoch 00025: val_loss did not improve from 0.23842\n",
      "\n",
      "Epoch 00025: saving model to /Users/cjt678/Desktop/Unets/Networks/Unet-20220215T1341\\weights_now.h5\n",
      "Epoch 26/120\n",
      "180/180 [==============================] - 11s 64ms/step - loss: 0.1040 - mean_iou: 0.7773 - val_loss: 0.2209 - val_mean_iou: 0.7792\n",
      "\n",
      "Epoch 00026: val_loss improved from 0.23842 to 0.22088, saving model to /Users/cjt678/Desktop/Unets/Networks/Unet-20220215T1341\\weights_best.h5\n",
      "\n",
      "Epoch 00026: saving model to /Users/cjt678/Desktop/Unets/Networks/Unet-20220215T1341\\weights_now.h5\n",
      "Epoch 27/120\n",
      "180/180 [==============================] - 12s 64ms/step - loss: 0.1021 - mean_iou: 0.7811 - val_loss: 0.2432 - val_mean_iou: 0.7828\n",
      "\n",
      "Epoch 00027: val_loss did not improve from 0.22088\n",
      "\n",
      "Epoch 00027: saving model to /Users/cjt678/Desktop/Unets/Networks/Unet-20220215T1341\\weights_now.h5\n",
      "Epoch 28/120\n",
      "180/180 [==============================] - 11s 64ms/step - loss: 0.0953 - mean_iou: 0.7844 - val_loss: 0.2320 - val_mean_iou: 0.7862\n",
      "\n",
      "Epoch 00028: val_loss did not improve from 0.22088\n",
      "\n",
      "Epoch 00028: saving model to /Users/cjt678/Desktop/Unets/Networks/Unet-20220215T1341\\weights_now.h5\n",
      "Epoch 29/120\n",
      "180/180 [==============================] - 12s 64ms/step - loss: 0.0952 - mean_iou: 0.7878 - val_loss: 0.2883 - val_mean_iou: 0.7893\n",
      "\n",
      "Epoch 00029: val_loss did not improve from 0.22088\n",
      "\n",
      "Epoch 00029: saving model to /Users/cjt678/Desktop/Unets/Networks/Unet-20220215T1341\\weights_now.h5\n",
      "Epoch 30/120\n",
      "180/180 [==============================] - 11s 64ms/step - loss: 0.0942 - mean_iou: 0.7907 - val_loss: 0.2919 - val_mean_iou: 0.7922\n",
      "\n",
      "Epoch 00030: val_loss did not improve from 0.22088\n",
      "\n",
      "Epoch 00030: saving model to /Users/cjt678/Desktop/Unets/Networks/Unet-20220215T1341\\weights_now.h5\n",
      "Epoch 31/120\n",
      " 84/180 [=============>................] - ETA: 5s - loss: 0.0872 - mean_iou: 0.7928"
     ]
    }
   ],
   "source": [
    "model.train_model()"
   ]
  },
  {
   "cell_type": "markdown",
   "metadata": {},
   "source": [
    "## 3. Prediction"
   ]
  },
  {
   "cell_type": "code",
   "execution_count": 19,
   "metadata": {},
   "outputs": [
    {
     "name": "stdout",
     "output_type": "stream",
     "text": [
      "Config file exists in model directory. Loading /mnt/mbi/home/mbirdm/AI/data_ai/Vidhya/Networks/Unet-20191024T0603/Unet-20191024T0603-config.yml\n",
      "Loaded config file from /mnt/mbi/home/mbirdm/AI/data_ai/Vidhya/Networks/Unet-20191024T0603/\n",
      "Updating model_dir to /mnt/mbi/home/mbirdm/AI/data_ai/Vidhya/Networks/Unet-20191024T0603/\n",
      "Unet 2021-05-19 07:03:55.120803\n",
      "Predicting using single GPU or CPU..\n",
      "Loss : Edge Enhanced categorical_crossentropy\n",
      "Metrics : ['categorical_accuracy']\n",
      "Loaded weights from: /mnt/mbi/home/mbirdm/AI/data_ai/Vidhya/Networks/Unet-20191024T0603/weights_best.h5\n"
     ]
    }
   ],
   "source": [
    "# Please remember to change to the correct folder containing the network weights\n",
    "model_dir = '/mnt/mbi/home/mbirdm/AI/data_ai/Vidhya/Networks/Unet-20191024T0603/'\n",
    "model = Unet(model_dir = model_dir,\n",
    "             for_prediction=True,\n",
    "             tile_size = [512,512],\n",
    "             tile_overlap_size = [0,0])\n",
    "#model = Unet(model_dir = model_dir,\n",
    "#             use_cpu = True,\n",
    "#             config_filepath=None,\n",
    "#             for_prediction=True,\n",
    "#             save_as_uint16=True,\n",
    "#             tile_size = [512,512],\n",
    "#             tile_overlap_size = [0,0])\n",
    "model.initialize_model()\n",
    "model.load_weights(model_dir+'weights_best.h5') # leave blank to load last h5 file in folder"
   ]
  },
  {
   "cell_type": "code",
   "execution_count": 20,
   "metadata": {
    "scrolled": true
   },
   "outputs": [
    {
     "data": {
      "application/vnd.jupyter.widget-view+json": {
       "model_id": "d921fb6051344743bb061dee2f4dbf25",
       "version_major": 2,
       "version_minor": 0
      },
      "text/plain": [
       "HBox(children=(HTML(value=''), FloatProgress(value=0.0, max=2.0), HTML(value='')))"
      ]
     },
     "metadata": {},
     "output_type": "display_data"
    },
    {
     "name": "stderr",
     "output_type": "stream",
     "text": [
      "TiffPage 0: TypeError: read_bytes() missing 3 required positional arguments: 'dtype', 'count', and 'offsetsize'\n"
     ]
    },
    {
     "data": {
      "application/vnd.jupyter.widget-view+json": {
       "model_id": "1bbb46d4142244019af1b5369a11fa20",
       "version_major": 2,
       "version_minor": 0
      },
      "text/plain": [
       "HBox(children=(HTML(value=''), FloatProgress(value=0.0, max=2.0), HTML(value='')))"
      ]
     },
     "metadata": {},
     "output_type": "display_data"
    },
    {
     "name": "stderr",
     "output_type": "stream",
     "text": [
      "TiffPage 0: TypeError: read_bytes() missing 3 required positional arguments: 'dtype', 'count', and 'offsetsize'\n"
     ]
    },
    {
     "name": "stdout",
     "output_type": "stream",
     "text": [
      "\n"
     ]
    },
    {
     "data": {
      "application/vnd.jupyter.widget-view+json": {
       "model_id": "940c529fb73542a0a9912b667e67a328",
       "version_major": 2,
       "version_minor": 0
      },
      "text/plain": [
       "HBox(children=(HTML(value=''), FloatProgress(value=0.0, max=68.0), HTML(value='')))"
      ]
     },
     "metadata": {},
     "output_type": "display_data"
    },
    {
     "name": "stdout",
     "output_type": "stream",
     "text": [
      "\n",
      "\n"
     ]
    }
   ],
   "source": [
    "# popiah\n",
    "_ = model.predict_images('/mnt/mbi/home/mbirdm/AI/data_ai/Vidhya/prediction/')"
   ]
  },
  {
   "cell_type": "code",
   "execution_count": 51,
   "metadata": {},
   "outputs": [],
   "source": [
    "model.end_training()"
   ]
  },
  {
   "cell_type": "markdown",
   "metadata": {},
   "source": [
    "# <font color=\"red\"> Please remember to restart or stop the notebook once you are done. Thank you. </font>\n",
    "\n",
    "Alternatively, run the line above"
   ]
  },
  {
   "cell_type": "code",
   "execution_count": null,
   "metadata": {},
   "outputs": [],
   "source": []
  }
 ],
 "metadata": {
  "kernelspec": {
   "display_name": "Python 3",
   "language": "python",
   "name": "python3"
  },
  "language_info": {
   "codemirror_mode": {
    "name": "ipython",
    "version": 3
   },
   "file_extension": ".py",
   "mimetype": "text/x-python",
   "name": "python",
   "nbconvert_exporter": "python",
   "pygments_lexer": "ipython3",
   "version": "3.6.13"
  }
 },
 "nbformat": 4,
 "nbformat_minor": 4
}
